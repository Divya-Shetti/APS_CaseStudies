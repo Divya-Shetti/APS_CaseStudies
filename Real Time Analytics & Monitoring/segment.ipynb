{
  "nbformat": 4,
  "nbformat_minor": 0,
  "metadata": {
    "colab": {
      "provenance": []
    },
    "kernelspec": {
      "name": "python3",
      "display_name": "Python 3"
    },
    "language_info": {
      "name": "python"
    }
  },
  "cells": [
    {
      "cell_type": "code",
      "source": [
        "class SegmentTree:\n",
        "    def __init__(self, data):\n",
        "        self.n = len(data)\n",
        "        self.tree = [0] * (4 * self.n)\n",
        "        self.build(data, 0, 0, self.n - 1)\n",
        "\n",
        "    def build(self, data, node, start, end):\n",
        "        if start == end:\n",
        "            self.tree[node] = data[start]\n",
        "        else:\n",
        "            mid = (start + end) // 2\n",
        "            self.build(data, 2 * node + 1, start, mid)\n",
        "            self.build(data, 2 * node + 2, mid + 1, end)\n",
        "            self.tree[node] = self.tree[2 * node + 1] + self.tree[2 * node + 2]\n",
        "\n",
        "    def update(self, idx, value, node=0, start=0, end=None):\n",
        "        if end is None: end = self.n - 1\n",
        "        if start == end:\n",
        "            self.tree[node] = value\n",
        "        else:\n",
        "            mid = (start + end) // 2\n",
        "            if idx <= mid:\n",
        "                self.update(idx, value, 2 * node + 1, start, mid)\n",
        "            else:\n",
        "                self.update(idx, value, 2 * node + 2, mid + 1, end)\n",
        "            self.tree[node] = self.tree[2 * node + 1] + self.tree[2 * node + 2]\n",
        "\n",
        "    def query(self, l, r, node=0, start=0, end=None):\n",
        "        if end is None: end = self.n - 1\n",
        "        if r < start or l > end:\n",
        "            return 0\n",
        "        if l <= start and end <= r:\n",
        "            return self.tree[node]\n",
        "        mid = (start + end) // 2\n",
        "        left = self.query(l, r, 2 * node + 1, start, mid)\n",
        "        right = self.query(l, r, 2 * node + 2, mid + 1, end)\n",
        "        return left + right\n",
        "\n",
        "\n",
        "# Example usage\n",
        "if __name__ == '__main__':\n",
        "    print(\"Segment Tree Example\")\n",
        "    data = [3, 2, -1, 6, 5, 4, -3, 3, 7, 2]\n",
        "    st = SegmentTree(data)\n",
        "    print(\"Array:\", data)\n",
        "    print(\"Sum from index 0 to 4:\", st.query(0, 4))   # Output: 15\n",
        "    print(\"Sum from index 3 to 7:\", st.query(3, 7))   # Output: 15\n",
        "    st.update(3, 10)  # Update index 3 to 10\n",
        "    print(\"After update at index 3 to 10:\")\n",
        "    print(\"Sum from index 3 to 7:\", st.query(3, 7))   # Output should reflect updated value\n"
      ],
      "metadata": {
        "colab": {
          "base_uri": "https://localhost:8080/"
        },
        "id": "mMURXOHovC1u",
        "outputId": "c528ba5d-1250-4c93-95f2-1af562a6bb34"
      },
      "execution_count": 39,
      "outputs": [
        {
          "output_type": "stream",
          "name": "stdout",
          "text": [
            "Segment Tree Example\n",
            "Array: [3, 2, -1, 6, 5, 4, -3, 3, 7, 2]\n",
            "Sum from index 0 to 4: 15\n",
            "Sum from index 3 to 7: 15\n",
            "After update at index 3 to 10:\n",
            "Sum from index 3 to 7: 19\n"
          ]
        }
      ]
    }
  ]
}