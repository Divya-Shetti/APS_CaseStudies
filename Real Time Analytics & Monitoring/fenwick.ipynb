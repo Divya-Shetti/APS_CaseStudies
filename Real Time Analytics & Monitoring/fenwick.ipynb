{
  "nbformat": 4,
  "nbformat_minor": 0,
  "metadata": {
    "colab": {
      "provenance": []
    },
    "kernelspec": {
      "name": "python3",
      "display_name": "Python 3"
    },
    "language_info": {
      "name": "python"
    }
  },
  "cells": [
    {
      "cell_type": "code",
      "source": [
        "class FenwickTree:\n",
        "    def __init__(self, size):\n",
        "        # Size of the array (1-based indexing)\n",
        "        self.n = size\n",
        "        self.tree = [0] * (size + 1)\n",
        "\n",
        "    def update(self, index, delta):\n",
        "        \"\"\"Add `delta` to element at `index` (1-based).\"\"\"\n",
        "        while index <= self.n:\n",
        "            self.tree[index] += delta\n",
        "            index += index & -index  # Move to next responsible node\n",
        "\n",
        "    def query(self, index):\n",
        "        \"\"\"Get prefix sum from index 1 to `index`.\"\"\"\n",
        "        result = 0\n",
        "        while index > 0:\n",
        "            result += self.tree[index]\n",
        "            index -= index & -index  # Move to parent\n",
        "        return result\n",
        "\n",
        "    def range_query(self, left, right):\n",
        "        \"\"\"Get sum of range [left, right].\"\"\"\n",
        "        return self.query(right) - self.query(left - 1)\n",
        "\n",
        "\n",
        "# Example usage\n",
        "if __name__ == '__main__':\n",
        "    print(\"Fenwick Tree Example\")\n",
        "    values = [3, 2, -1, 6, 5, 4, -3, 3, 7, 2]  # 10 elements\n",
        "\n",
        "    ft = FenwickTree(len(values))\n",
        "    for i, val in enumerate(values):\n",
        "        ft.update(i + 1, val)  # Update using 1-based index\n",
        "    print(\"Array:\",values)\n",
        "    print(\"Prefix sum up to index 5 (1 based indexing):\", ft.query(5))       # Should output 15\n",
        "    print(\"Range sum from index 3 to 7 (1 based indexing):\", ft.range_query(3, 7))  # Should output 11\n"
      ],
      "metadata": {
        "colab": {
          "base_uri": "https://localhost:8080/"
        },
        "id": "mMURXOHovC1u",
        "outputId": "eb77a687-96e5-4ace-a4e9-fbcabbe3527c"
      },
      "execution_count": 38,
      "outputs": [
        {
          "output_type": "stream",
          "name": "stdout",
          "text": [
            "Fenwick Tree Example\n",
            "Array: [3, 2, -1, 6, 5, 4, -3, 3, 7, 2]\n",
            "Prefix sum up to index 5 (1 based indexing): 15\n",
            "Range sum from index 3 to 7 (1 based indexing): 11\n"
          ]
        }
      ]
    }
  ]
}