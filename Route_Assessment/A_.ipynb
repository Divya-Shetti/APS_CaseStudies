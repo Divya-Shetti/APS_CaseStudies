{
  "nbformat": 4,
  "nbformat_minor": 0,
  "metadata": {
    "colab": {
      "provenance": []
    },
    "kernelspec": {
      "name": "python3",
      "display_name": "Python 3"
    },
    "language_info": {
      "name": "python"
    }
  },
  "cells": [
    {
      "cell_type": "code",
      "source": [
        "class Graph:\n",
        "    def __init__(self, adjacency_list):\n",
        "        self.adjacency_list = adjacency_list\n",
        "\n",
        "    def get_neighbors(self, v):\n",
        "        return self.adjacency_list.get(v, [])\n",
        "\n",
        "    def h(self, n):\n",
        "        H = {\n",
        "            'S': 7,\n",
        "            'A': 6,\n",
        "            'B': 2,\n",
        "            'C': 1,\n",
        "            'G': 0\n",
        "        }\n",
        "        return H[n]\n",
        "\n",
        "    def a_star_algorithm(self, start_node, stop_node):\n",
        "        open_list = set([start_node])\n",
        "        closed_list = set([])\n",
        "\n",
        "        g = {start_node: 0}\n",
        "        parents = {start_node: start_node}\n",
        "\n",
        "        while open_list:\n",
        "            n = None\n",
        "            for v in open_list:\n",
        "                if n is None or g[v] + self.h(v) < g[n] + self.h(n):\n",
        "                    n = v\n",
        "\n",
        "            if n is None:\n",
        "                print('Path does not exist!')\n",
        "                return None\n",
        "\n",
        "            if n == stop_node:\n",
        "                reconst_path = []\n",
        "                while parents[n] != n:\n",
        "                    reconst_path.append(n)\n",
        "                    n = parents[n]\n",
        "                reconst_path.append(start_node)\n",
        "                reconst_path.reverse()\n",
        "                print('Path found: {}'.format(reconst_path))\n",
        "                print('Total cost: {}'.format(g[stop_node]))\n",
        "                return reconst_path\n",
        "\n",
        "            for (m, weight) in self.get_neighbors(n):\n",
        "                if m not in open_list and m not in closed_list:\n",
        "                    open_list.add(m)\n",
        "                    parents[m] = n\n",
        "                    g[m] = g[n] + weight\n",
        "                else:\n",
        "                    if g[m] > g[n] + weight:\n",
        "                        g[m] = g[n] + weight\n",
        "                        parents[m] = n\n",
        "                        if m in closed_list:\n",
        "                            closed_list.remove(m)\n",
        "                            open_list.add(m)\n",
        "\n",
        "            open_list.remove(n)\n",
        "            closed_list.add(n)\n",
        "\n",
        "        print('Path does not exist!')\n",
        "        return None\n",
        "\n",
        "\n",
        "# Custom graph from your input\n",
        "adjacency_list = {\n",
        "    'S': [('A', 1), ('B', 4)],\n",
        "    'A': [('G', 12), ('B', 2), ('C', 5)],\n",
        "    'B': [('C', 2)],\n",
        "    'C': [('G', 3)]\n",
        "}\n",
        "\n",
        "graph1 = Graph(adjacency_list)\n",
        "graph1.a_star_algorithm('S', 'G')\n"
      ],
      "metadata": {
        "colab": {
          "base_uri": "https://localhost:8080/"
        },
        "id": "3IKxhEAjZ-B2",
        "outputId": "1a0b2e41-552d-4364-9fdb-24fd6efa526a"
      },
      "execution_count": 5,
      "outputs": [
        {
          "output_type": "stream",
          "name": "stdout",
          "text": [
            "Path found: ['S', 'A', 'B', 'C', 'G']\n",
            "Total cost: 8\n"
          ]
        },
        {
          "output_type": "execute_result",
          "data": {
            "text/plain": [
              "['S', 'A', 'B', 'C', 'G']"
            ]
          },
          "metadata": {},
          "execution_count": 5
        }
      ]
    }
  ]
}