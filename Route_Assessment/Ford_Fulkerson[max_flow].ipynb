{
  "nbformat": 4,
  "nbformat_minor": 0,
  "metadata": {
    "colab": {
      "provenance": []
    },
    "kernelspec": {
      "name": "python3",
      "display_name": "Python 3"
    },
    "language_info": {
      "name": "python"
    }
  },
  "cells": [
    {
      "cell_type": "code",
      "source": [
        "from collections import defaultdict\n",
        "\n",
        "class Graph:\n",
        "    def __init__(self, vertices):\n",
        "        self.graph = defaultdict(dict)\n",
        "        self.V = vertices\n",
        "\n",
        "    def add_edge(self, u, v, capacity):\n",
        "        self.graph[u][v] = capacity\n",
        "        if u not in self.graph[v]:\n",
        "            self.graph[v][u] = 0\n",
        "\n",
        "    def _dfs(self, s, t, visited, path):\n",
        "        visited.add(s)\n",
        "        if s == t:\n",
        "            return path\n",
        "        for neighbor in self.graph[s]:\n",
        "            if neighbor not in visited and self.graph[s][neighbor] > 0:\n",
        "                result = self._dfs(neighbor, t, visited, path + [(s, neighbor)])\n",
        "                if result:\n",
        "                    return result\n",
        "        return None\n",
        "\n",
        "    def ford_fulkerson(self, source, sink):\n",
        "        max_flow = 0\n",
        "        while True:\n",
        "            visited = set()\n",
        "            path = self._dfs(source, sink, visited, [])\n",
        "            if not path:\n",
        "                break\n",
        "\n",
        "            flow = min(self.graph[u][v] for u, v in path)\n",
        "\n",
        "            for u, v in path:\n",
        "                self.graph[u][v] -= flow\n",
        "                self.graph[v][u] += flow\n",
        "\n",
        "            max_flow += flow\n",
        "            print(f\"Augmenting path: {path}, flow: {flow}\")\n",
        "        return max_flow\n"
      ],
      "metadata": {
        "id": "3IKxhEAjZ-B2"
      },
      "execution_count": 6,
      "outputs": []
    },
    {
      "cell_type": "code",
      "source": [
        "g=Graph(4)\n",
        "g.add_edge('s','u',20)\n",
        "g.add_edge('s','v',10)\n",
        "g.add_edge('u','v',30)\n",
        "g.add_edge('u','t',10)\n",
        "g.add_edge('v','t',20)\n",
        "\n",
        "max_flow = g.ford_fulkerson('s', 't')\n",
        "print(f\"Max Flow: {max_flow}\")"
      ],
      "metadata": {
        "colab": {
          "base_uri": "https://localhost:8080/"
        },
        "id": "UQ8og4D6HYrs",
        "outputId": "b780ecfd-b2f7-4ee4-b387-25c8f1af22ae"
      },
      "execution_count": 9,
      "outputs": [
        {
          "output_type": "stream",
          "name": "stdout",
          "text": [
            "Augmenting path: [('s', 'u'), ('u', 'v'), ('v', 't')], flow: 20\n",
            "Augmenting path: [('s', 'v'), ('v', 'u'), ('u', 't')], flow: 10\n",
            "Max Flow: 30\n"
          ]
        }
      ]
    },
    {
      "cell_type": "code",
      "source": [
        "g = Graph(6)\n",
        "g.add_edge('S', 'A', 10)\n",
        "g.add_edge('S', 'C', 10)\n",
        "g.add_edge('A', 'B', 4)\n",
        "g.add_edge('A', 'D', 8)\n",
        "g.add_edge('A', 'C', 2)\n",
        "g.add_edge('C', 'D', 9)\n",
        "g.add_edge('D', 'B', 6)\n",
        "g.add_edge('B', 'T', 10)\n",
        "g.add_edge('D', 'T', 10)\n",
        "\n",
        "\n",
        "max_flow = g.ford_fulkerson('S', 'T')\n",
        "print(f\"Max Flow: {max_flow}\")\n"
      ],
      "metadata": {
        "colab": {
          "base_uri": "https://localhost:8080/"
        },
        "id": "pF82_W7SF2lO",
        "outputId": "0ec2abf0-46bf-4ef3-a529-52f04bef5882"
      },
      "execution_count": 8,
      "outputs": [
        {
          "output_type": "stream",
          "name": "stdout",
          "text": [
            "Augmenting path: [('S', 'A'), ('A', 'B'), ('B', 'T')], flow: 4\n",
            "Augmenting path: [('S', 'A'), ('A', 'D'), ('D', 'B'), ('B', 'T')], flow: 6\n",
            "Augmenting path: [('S', 'C'), ('C', 'D'), ('D', 'T')], flow: 9\n",
            "Max Flow: 19\n"
          ]
        }
      ]
    }
  ]
}