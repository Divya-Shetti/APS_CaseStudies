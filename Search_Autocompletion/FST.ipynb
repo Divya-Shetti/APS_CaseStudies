{
  "nbformat": 4,
  "nbformat_minor": 0,
  "metadata": {
    "colab": {
      "provenance": []
    },
    "kernelspec": {
      "name": "python3",
      "display_name": "Python 3"
    },
    "language_info": {
      "name": "python"
    }
  },
  "cells": [
    {
      "cell_type": "code",
      "execution_count": 11,
      "metadata": {
        "id": "xcbGmlAl9Hs-"
      },
      "outputs": [],
      "source": [
        "#FST's\n",
        "\n",
        "\n",
        "class State:\n",
        "    def __init__(self):\n",
        "        self.transitions = {}  # char -> next State\n",
        "        self.output = None     # suggestion or associated data\n",
        "        self.is_final = False\n",
        "\n",
        "class FST:\n",
        "    def __init__(self):\n",
        "        self.start = State()\n",
        "\n",
        "    def insert(self, word, output=None):\n",
        "        node = self.start\n",
        "        for char in word:\n",
        "            if char not in node.transitions:\n",
        "                node.transitions[char] = State()\n",
        "            node = node.transitions[char]\n",
        "        node.is_final = True\n",
        "        node.output = output if output else word\n",
        "\n",
        "    def autocomplete(self, prefix):\n",
        "        node = self.start\n",
        "        for char in prefix:\n",
        "            if char not in node.transitions:\n",
        "                return []\n",
        "            node = node.transitions[char]\n",
        "        return self._collect_outputs(node)\n",
        "\n",
        "    def _collect_outputs(self, node):\n",
        "        results = []\n",
        "        stack = [(node, \"\")]\n",
        "        while stack:\n",
        "            current, path = stack.pop()\n",
        "            if current.is_final:\n",
        "                results.append(current.output)\n",
        "            for char, next_node in current.transitions.items():\n",
        "                stack.append((next_node, path + char))\n",
        "        return results\n"
      ]
    },
    {
      "cell_type": "code",
      "source": [
        "fst = FST()\n",
        "fst.insert(\"hello\")\n",
        "fst.insert(\"help\")\n",
        "fst.insert(\"helium\")\n",
        "fst.insert(\"hero\")\n",
        "fst.insert(\"man\")\n",
        "fst.insert(\"genre\")\n",
        "fst.insert(\"gentle\")\n",
        "fst.insert(\"gem\")\n",
        "\n",
        "print(fst.autocomplete(\"ge\"))   # Output: ['gem', 'gentle', 'genre']\n",
        "print(fst.autocomplete(\"he\"))   # Output: ['hero','helium', 'help', 'hello']\n",
        "print(fst.autocomplete(\"hel\"))   # Output: ['hello', 'help', 'helium']\n",
        "\n"
      ],
      "metadata": {
        "colab": {
          "base_uri": "https://localhost:8080/"
        },
        "id": "k9II_-FC9N4B",
        "outputId": "c7ce5c06-cb0f-4ea7-8562-c7f24f71cdd6"
      },
      "execution_count": 12,
      "outputs": [
        {
          "output_type": "stream",
          "name": "stdout",
          "text": [
            "['gem', 'gentle', 'genre']\n",
            "['hero', 'helium', 'help', 'hello']\n",
            "['helium', 'help', 'hello']\n"
          ]
        }
      ]
    },
    {
      "cell_type": "code",
      "source": [
        "#Weighted FST's\n",
        "\n",
        "class State:\n",
        "    def __init__(self):\n",
        "        self.transitions = {}  # char -> next State\n",
        "        self.output = None     # suggestion or associated data\n",
        "        self.is_final = False\n",
        "        self.weight = float('inf')  # Lower weight = higher priority\n",
        "\n",
        "class WeightedFST:\n",
        "    def __init__(self):\n",
        "        self.start = State()\n",
        "\n",
        "    def insert(self, word, output=None, weight=1):\n",
        "        node = self.start\n",
        "        for char in word:\n",
        "            if char not in node.transitions:\n",
        "                node.transitions[char] = State()\n",
        "            node = node.transitions[char]\n",
        "        node.is_final = True\n",
        "        node.output = output if output else word\n",
        "        node.weight = weight\n",
        "\n",
        "    def autocomplete(self, prefix):\n",
        "        node = self.start\n",
        "        for char in prefix:\n",
        "            if char not in node.transitions:\n",
        "                return []\n",
        "            node = node.transitions[char]\n",
        "        results = self._collect_outputs(node)\n",
        "        # Sort by weight ascending (lower weight = better)\n",
        "        results.sort(key=lambda x: x[1])\n",
        "        return [output for output, weight in results]\n",
        "\n",
        "    def _collect_outputs(self, node):\n",
        "        results = []\n",
        "        stack = [(node, \"\")]\n",
        "        while stack:\n",
        "            current, path = stack.pop()\n",
        "            if current.is_final:\n",
        "                results.append((current.output, current.weight))\n",
        "            for char, next_node in current.transitions.items():\n",
        "                stack.append((next_node, path + char))\n",
        "        return results\n",
        "\n"
      ],
      "metadata": {
        "id": "ow3z_ZDGKRlg"
      },
      "execution_count": 9,
      "outputs": []
    },
    {
      "cell_type": "code",
      "source": [
        "# Example usage\n",
        "wfst = WeightedFST()\n",
        "wfst.insert(\"hello\", weight=1)    # Most popular\n",
        "wfst.insert(\"help\", weight=2)\n",
        "wfst.insert(\"helium\", weight=3)\n",
        "wfst.insert(\"hero\", weight=4)\n",
        "wfst.insert(\"man\", weight=10)\n",
        "wfst.insert(\"genre\", weight=8)\n",
        "wfst.insert(\"gentle\", weight=6)\n",
        "wfst.insert(\"gem\", weight=5)\n",
        "\n",
        "print(wfst.autocomplete(\"ge\"))   # ['gem', 'gentle', 'genre']\n",
        "print(wfst.autocomplete(\"he\"))   # ['hello', 'help', 'helium', 'hero']\n",
        "print(wfst.autocomplete(\"hel\"))  # ['hello', 'help', 'helium']\n"
      ],
      "metadata": {
        "colab": {
          "base_uri": "https://localhost:8080/"
        },
        "id": "bM442S9mKfkN",
        "outputId": "98fbb06d-2ed4-48d1-d3c8-4a2d527fedee"
      },
      "execution_count": 10,
      "outputs": [
        {
          "output_type": "stream",
          "name": "stdout",
          "text": [
            "['gem', 'gentle', 'genre']\n",
            "['hello', 'help', 'helium', 'hero']\n",
            "['hello', 'help', 'helium']\n"
          ]
        }
      ]
    }
  ]
}