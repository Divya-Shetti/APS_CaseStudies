{
  "nbformat": 4,
  "nbformat_minor": 0,
  "metadata": {
    "colab": {
      "provenance": []
    },
    "kernelspec": {
      "name": "python3",
      "display_name": "Python 3"
    },
    "language_info": {
      "name": "python"
    }
  },
  "cells": [
    {
      "cell_type": "code",
      "execution_count": 26,
      "metadata": {
        "id": "xcbGmlAl9Hs-"
      },
      "outputs": [],
      "source": [
        "#TRIE's\n",
        "class TrieNode:\n",
        "    def __init__(self):\n",
        "        self.children = {}\n",
        "        self.isEndOfWord = False\n",
        "        self.data = None  # Container for custom data"
      ]
    },
    {
      "cell_type": "code",
      "source": [
        "class Trie:\n",
        "    def __init__(self):\n",
        "        self.root = TrieNode()\n",
        "\n",
        "    def insert(self, word, data=None):\n",
        "        node = self.root\n",
        "        for char in word:\n",
        "            if char not in node.children:\n",
        "                node.children[char] = TrieNode()\n",
        "            node = node.children[char]\n",
        "        node.isEndOfWord = True\n",
        "        node.data = data\n",
        "    def searchPrefix(self, prefix):\n",
        "        node = self.root\n",
        "        for char in prefix:\n",
        "            if char in node.children:\n",
        "                node = node.children[char]\n",
        "            else:\n",
        "                return None\n",
        "        return node\n",
        "    def _findAllWords(self, node, prefix, words):\n",
        "            if node.isEndOfWord:\n",
        "                words.append((prefix, node.data))\n",
        "            for char, nextNode in node.children.items():\n",
        "                self._findAllWords(nextNode, prefix + char, words)\n",
        "\n",
        "    def findWordsWithPrefix(self, prefix):\n",
        "                node = self.searchPrefix(prefix)\n",
        "                words = []\n",
        "                if node:\n",
        "                    self._findAllWords(node, prefix, words)\n",
        "                return words\n"
      ],
      "metadata": {
        "id": "k9II_-FC9N4B"
      },
      "execution_count": 27,
      "outputs": []
    },
    {
      "cell_type": "code",
      "source": [
        "trie = Trie()\n",
        "trie.insert(\"hello\", {\"definition\": \"a greeting\"})\n",
        "trie.insert(\"help\", {\"definition\": \"to assist\"})\n",
        "trie.insert(\"helium\", {\"definition\": \"an element\"})\n",
        "trie.insert(\"hear\", {\"definition\": \"to listen\"})\n",
        "print(trie.findWordsWithPrefix(\"hel\"))"
      ],
      "metadata": {
        "colab": {
          "base_uri": "https://localhost:8080/"
        },
        "id": "SzbQxF3ZmOSM",
        "outputId": "6edcf1dc-65a0-4df8-e58a-decd782d5eda"
      },
      "execution_count": 28,
      "outputs": [
        {
          "output_type": "stream",
          "name": "stdout",
          "text": [
            "[('hello', {'definition': 'a greeting'}), ('help', {'definition': 'to assist'}), ('helium', {'definition': 'an element'})]\n"
          ]
        }
      ]
    }
  ]
}