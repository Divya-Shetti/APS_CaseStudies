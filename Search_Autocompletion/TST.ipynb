{
  "nbformat": 4,
  "nbformat_minor": 0,
  "metadata": {
    "colab": {
      "provenance": []
    },
    "kernelspec": {
      "name": "python3",
      "display_name": "Python 3"
    },
    "language_info": {
      "name": "python"
    }
  },
  "cells": [
    {
      "cell_type": "code",
      "execution_count": 29,
      "metadata": {
        "id": "xcbGmlAl9Hs-"
      },
      "outputs": [],
      "source": [
        "#Ternary search trees\n",
        "class TSTNode:\n",
        "    def __init__(self, char):\n",
        "        self.char = char\n",
        "        self.left = self.mid = self.right = None\n",
        "        self.is_end = False\n",
        "\n",
        "class TST:\n",
        "    def __init__(self):\n",
        "        self.root = None\n",
        "\n",
        "    def insert(self, word):\n",
        "        def _insert(node, word, i):\n",
        "            c = word[i]\n",
        "            if not node:\n",
        "                node = TSTNode(c)\n",
        "            if c < node.char:\n",
        "                node.left = _insert(node.left, word, i)\n",
        "            elif c > node.char:\n",
        "                node.right = _insert(node.right, word, i)\n",
        "            else:\n",
        "                if i + 1 == len(word):\n",
        "                    node.is_end = True\n",
        "                else:\n",
        "                    node.mid = _insert(node.mid, word, i+1)\n",
        "            return node\n",
        "        self.root = _insert(self.root, word, 0)\n",
        "\n",
        "    def autocomplete(self, prefix):\n",
        "        def _search(node, word, i):\n",
        "            if not node:\n",
        "                return None\n",
        "            c = word[i]\n",
        "            if c < node.char:\n",
        "                return _search(node.left, word, i)\n",
        "            elif c > node.char:\n",
        "                return _search(node.right, word, i)\n",
        "            else:\n",
        "                if i + 1 == len(word):\n",
        "                    return node\n",
        "                return _search(node.mid, word, i+1)\n",
        "\n",
        "        def _collect(node, pre, results):\n",
        "            if not node:\n",
        "                return\n",
        "            _collect(node.left, pre, results)\n",
        "            if node.is_end:\n",
        "                results.append(pre + node.char)\n",
        "            _collect(node.mid, pre + node.char, results)\n",
        "            _collect(node.right, pre, results)\n",
        "\n",
        "        results = []\n",
        "        node = _search(self.root, prefix, 0)\n",
        "        if not node:\n",
        "            return results\n",
        "        if node.is_end:\n",
        "            results.append(prefix)\n",
        "        _collect(node.mid, prefix, results)\n",
        "        return results\n"
      ]
    },
    {
      "cell_type": "code",
      "source": [
        "tst = TST()\n",
        "words = [\"hello\", \"help\", \"helium\", \"hero\", \"her\", \"heat\", \"derilium\"]\n",
        "for word in words:\n",
        "    tst.insert(word)\n",
        "\n",
        "print(tst.autocomplete(\"her\"))   # Output: ['her', 'hero']\n",
        "print(tst.autocomplete(\"hel\"))  # Output: ['helium', 'hello', 'help']\n",
        "print(tst.autocomplete(\"h\"))    # Output: ['heat', 'helium', 'hello', 'help', 'her', 'hero']\n"
      ],
      "metadata": {
        "colab": {
          "base_uri": "https://localhost:8080/"
        },
        "id": "k9II_-FC9N4B",
        "outputId": "83b5e171-ecd3-4223-da72-8c3f8ca2ca52"
      },
      "execution_count": 32,
      "outputs": [
        {
          "output_type": "stream",
          "name": "stdout",
          "text": [
            "['her', 'hero']\n",
            "['helium', 'hello', 'help']\n",
            "['heat', 'helium', 'hello', 'help', 'her', 'hero']\n"
          ]
        }
      ]
    }
  ]
}