{
  "nbformat": 4,
  "nbformat_minor": 0,
  "metadata": {
    "colab": {
      "provenance": []
    },
    "kernelspec": {
      "name": "python3",
      "display_name": "Python 3"
    },
    "language_info": {
      "name": "python"
    }
  },
  "cells": [
    {
      "cell_type": "code",
      "source": [
        "class BTreeNode:\n",
        "    def __init__(self, t, leaf=False):\n",
        "        self.t = t  # Minimum degree (defines the range for number of keys)\n",
        "        self.leaf = leaf\n",
        "        self.keys = []\n",
        "        self.children = []\n",
        "\n",
        "    def traverse(self):\n",
        "        for i in range(len(self.keys)):\n",
        "            if not self.leaf:\n",
        "                self.children[i].traverse()\n",
        "            print(self.keys[i], end=\" \")\n",
        "        if not self.leaf:\n",
        "            self.children[-1].traverse()\n",
        "\n",
        "    def search(self, k):\n",
        "        i = 0\n",
        "        while i < len(self.keys) and k > self.keys[i]:\n",
        "            i += 1\n",
        "        if i < len(self.keys) and self.keys[i] == k:\n",
        "            return self\n",
        "        if self.leaf:\n",
        "            return None\n",
        "        return self.children[i].search(k)\n",
        "\n",
        "    def insert_non_full(self, k):\n",
        "        i = len(self.keys) - 1\n",
        "        if self.leaf:\n",
        "            self.keys.append(0)\n",
        "            while i >= 0 and k < self.keys[i]:\n",
        "                self.keys[i + 1] = self.keys[i]\n",
        "                i -= 1\n",
        "            self.keys[i + 1] = k\n",
        "        else:\n",
        "            while i >= 0 and k < self.keys[i]:\n",
        "                i -= 1\n",
        "            i += 1\n",
        "            if len(self.children[i].keys) == 2 * self.t - 1:\n",
        "                self.split_child(i, self.children[i])\n",
        "                if k > self.keys[i]:\n",
        "                    i += 1\n",
        "            self.children[i].insert_non_full(k)\n",
        "\n",
        "    def split_child(self, i, y):\n",
        "        t = self.t\n",
        "        z = BTreeNode(t, y.leaf)\n",
        "        z.keys = y.keys[t:]  # Last t-1 keys go to new node\n",
        "        y.keys = y.keys[:t - 1]  # First t-1 keys remain\n",
        "        if not y.leaf:\n",
        "            z.children = y.children[t:]\n",
        "            y.children = y.children[:t]\n",
        "        self.children.insert(i + 1, z)\n",
        "        self.keys.insert(i, y.keys.pop())\n"
      ],
      "metadata": {
        "id": "3IKxhEAjZ-B2"
      },
      "execution_count": 15,
      "outputs": []
    },
    {
      "cell_type": "code",
      "source": [
        "class BTree:\n",
        "    def __init__(self, t):\n",
        "        self.t = t\n",
        "        self.root = BTreeNode(t, leaf=True)\n",
        "\n",
        "    def traverse(self):\n",
        "        if self.root:\n",
        "            self.root.traverse()\n",
        "            print()\n",
        "\n",
        "    def search(self, k):\n",
        "        return self.root.search(k)\n",
        "\n",
        "    def insert(self, k):\n",
        "        root = self.root\n",
        "        if len(root.keys) == 2 * self.t - 1:\n",
        "            temp = BTreeNode(self.t, leaf=False)\n",
        "            temp.children.insert(0, root)\n",
        "            temp.split_child(0, root)\n",
        "            i = 0\n",
        "            if temp.keys[0] < k:\n",
        "                i += 1\n",
        "            temp.children[i].insert_non_full(k)\n",
        "            self.root = temp\n",
        "        else:\n",
        "            root.insert_non_full(k)\n"
      ],
      "metadata": {
        "id": "UQ8og4D6HYrs"
      },
      "execution_count": 18,
      "outputs": []
    },
    {
      "cell_type": "code",
      "source": [
        "if __name__ == '__main__':\n",
        "    print(\"B-tree with t=3 (min degree)\")\n",
        "    btree = BTree(t=3)\n",
        "\n",
        "    values = [10, 20, 5, 6, 12, 30, 7, 17]\n",
        "    for val in values:\n",
        "        btree.insert(val)\n",
        "\n",
        "    print(\"Traversal of the B-tree:\")\n",
        "    btree.traverse()\n",
        "\n",
        "    key = 6\n",
        "    result = btree.search(key)\n",
        "    print(f\"\\nSearch for {key}:\", \"Found\" if result else \"Not found\")\n"
      ],
      "metadata": {
        "colab": {
          "base_uri": "https://localhost:8080/"
        },
        "id": "pF82_W7SF2lO",
        "outputId": "d25cc5f2-e0ff-468d-ba6c-0915487d736c"
      },
      "execution_count": 20,
      "outputs": [
        {
          "output_type": "stream",
          "name": "stdout",
          "text": [
            "B-tree with t=3 (min degree)\n",
            "Traversal of the B-tree:\n",
            "5 6 7 12 17 20 30 \n",
            "\n",
            "Search for 6: Found\n"
          ]
        }
      ]
    }
  ]
}