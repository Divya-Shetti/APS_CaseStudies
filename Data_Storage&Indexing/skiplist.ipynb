{
  "nbformat": 4,
  "nbformat_minor": 0,
  "metadata": {
    "colab": {
      "provenance": []
    },
    "kernelspec": {
      "name": "python3",
      "display_name": "Python 3"
    },
    "language_info": {
      "name": "python"
    }
  },
  "cells": [
    {
      "cell_type": "code",
      "source": [
        "import random\n",
        "\n",
        "MAX_LEVEL = 4  # max levels in skiplist\n",
        "\n",
        "class Node:\n",
        "    def __init__(self, key, level):\n",
        "        self.key = key\n",
        "        self.forward = [None] * (level + 1)\n",
        "\n",
        "class Skiplist:\n",
        "    def __init__(self):\n",
        "        self.header = Node(-1, MAX_LEVEL)\n",
        "        self.level = 0\n",
        "\n",
        "    def random_level(self):\n",
        "        lvl = 0\n",
        "        while random.random() < 0.5 and lvl < MAX_LEVEL:\n",
        "            lvl += 1\n",
        "        return lvl\n",
        "\n",
        "    def insert(self, key):\n",
        "        update = [None] * (MAX_LEVEL + 1)\n",
        "        current = self.header\n",
        "\n",
        "        # Start from highest level and move forward\n",
        "        for i in range(self.level, -1, -1):\n",
        "            while current.forward[i] and current.forward[i].key < key:\n",
        "                current = current.forward[i]\n",
        "            update[i] = current\n",
        "\n",
        "        current = current.forward[0]\n",
        "\n",
        "        # Insert if not present\n",
        "        if current is None or current.key != key:\n",
        "            lvl = self.random_level()\n",
        "\n",
        "            if lvl > self.level:\n",
        "                for i in range(self.level + 1, lvl + 1):\n",
        "                    update[i] = self.header\n",
        "                self.level = lvl\n",
        "\n",
        "            new_node = Node(key, lvl)\n",
        "            for i in range(lvl + 1):\n",
        "                new_node.forward[i] = update[i].forward[i]\n",
        "                update[i].forward[i] = new_node\n",
        "\n",
        "    def search(self, key):\n",
        "        current = self.header\n",
        "        for i in range(self.level, -1, -1):\n",
        "            while current.forward[i] and current.forward[i].key < key:\n",
        "                current = current.forward[i]\n",
        "\n",
        "        current = current.forward[0]\n",
        "        if current and current.key == key:\n",
        "            return True\n",
        "        return False\n",
        "\n",
        "    def display(self):\n",
        "        for i in range(self.level + 1):\n",
        "            current = self.header.forward[i]\n",
        "            print(f\"Level {i}: \", end=\"\")\n",
        "            while current:\n",
        "                print(current.key, end=\" -> \")\n",
        "                current = current.forward[i]\n",
        "            print(\"None\")\n",
        "\n",
        "# Usage\n",
        "skiplist = Skiplist()\n",
        "values = [3, 6, 7, 9, 12, 19, 17, 26]\n",
        "for val in values:\n",
        "    skiplist.insert(val)\n",
        "\n",
        "print(\"Skiplist structure:\")\n",
        "skiplist.display()\n",
        "\n",
        "print(\"\\nSearch 19:\", \"Found\" if skiplist.search(19) else \"Not Found\")\n",
        "print(\"Search 15:\", \"Found\" if skiplist.search(15) else \"Not Found\")\n"
      ],
      "metadata": {
        "colab": {
          "base_uri": "https://localhost:8080/"
        },
        "id": "mMURXOHovC1u",
        "outputId": "a5e06d57-8b6f-4c9b-c7b5-9d71649ddc6c"
      },
      "execution_count": 35,
      "outputs": [
        {
          "output_type": "stream",
          "name": "stdout",
          "text": [
            "Skiplist structure:\n",
            "Level 0: 3 -> 6 -> 7 -> 9 -> 12 -> 17 -> 19 -> 26 -> None\n",
            "Level 1: 3 -> 12 -> 26 -> None\n",
            "Level 2: 3 -> 26 -> None\n",
            "Level 3: 3 -> None\n",
            "\n",
            "Search 19: Found\n",
            "Search 15: Not Found\n"
          ]
        }
      ]
    }
  ]
}