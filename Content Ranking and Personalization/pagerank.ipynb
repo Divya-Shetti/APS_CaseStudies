{
  "nbformat": 4,
  "nbformat_minor": 0,
  "metadata": {
    "colab": {
      "provenance": []
    },
    "kernelspec": {
      "name": "python3",
      "display_name": "Python 3"
    },
    "language_info": {
      "name": "python"
    }
  },
  "cells": [
    {
      "cell_type": "code",
      "source": [
        "def pagerank(graph, damping=0.85, max_iter=100, tol=1e-6):\n",
        "    nodes = list(graph.keys())\n",
        "    n = len(nodes)\n",
        "    rank = {node: 1 / n for node in nodes}\n",
        "\n",
        "    for _ in range(max_iter):\n",
        "        prev_rank = rank.copy()\n",
        "        for node in nodes:\n",
        "            incoming = [src for src in nodes if node in graph[src]]\n",
        "            rank[node] = (1 - damping) / n + damping * sum(\n",
        "                prev_rank[src] / len(graph[src]) for src in incoming\n",
        "            )\n",
        "        # Check convergence\n",
        "        if all(abs(rank[node] - prev_rank[node]) < tol for node in nodes):\n",
        "            break\n",
        "\n",
        "    return rank\n",
        "\n",
        "# Example graph\n",
        "graph = {\n",
        "    'A': ['B', 'C'],\n",
        "    'B': ['C'],\n",
        "    'C': ['A'],\n",
        "    'D': ['C']\n",
        "}\n",
        "\n",
        "ranks = pagerank(graph)\n",
        "\n",
        "# Sort and print ranks in descending order\n",
        "sorted_ranks = sorted(ranks.items(), key=lambda x: x[1], reverse=True)\n",
        "\n",
        "print(\"Final Ranking Order:\")\n",
        "for i, (node, score) in enumerate(sorted_ranks, 1):\n",
        "    print(f\"{i}. {node} ({score:.4f})\")\n",
        "\n",
        "# Optional: get just the order string\n",
        "rank_order = \" > \".join(node for node, _ in sorted_ranks)\n",
        "print(\"Rank Order:\", rank_order)\n"
      ],
      "metadata": {
        "colab": {
          "base_uri": "https://localhost:8080/"
        },
        "id": "mMURXOHovC1u",
        "outputId": "0876deb6-f239-46c8-ff47-99fa7f48081f"
      },
      "execution_count": 45,
      "outputs": [
        {
          "output_type": "stream",
          "name": "stdout",
          "text": [
            "Final Ranking Order:\n",
            "1. C (0.3941)\n",
            "2. A (0.3725)\n",
            "3. B (0.1958)\n",
            "4. D (0.0375)\n",
            "Rank Order: C > A > B > D\n"
          ]
        }
      ]
    }
  ]
}