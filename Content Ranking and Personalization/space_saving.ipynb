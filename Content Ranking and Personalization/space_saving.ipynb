{
  "nbformat": 4,
  "nbformat_minor": 0,
  "metadata": {
    "colab": {
      "provenance": []
    },
    "kernelspec": {
      "name": "python3",
      "display_name": "Python 3"
    },
    "language_info": {
      "name": "python"
    }
  },
  "cells": [
    {
      "cell_type": "code",
      "source": [
        "from collections import defaultdict\n",
        "\n",
        "class SpaceSaving:\n",
        "    def __init__(self, k):\n",
        "        self.k = k  # Maximum number of elements to track\n",
        "        self.counters = {}  # Dictionary to store item -> (count, error)\n",
        "\n",
        "    def process(self, item):\n",
        "        if item in self.counters:\n",
        "            self.counters[item][0] += 1  # Increment count\n",
        "        elif len(self.counters) < self.k:\n",
        "            self.counters[item] = [1, 0]  # New item, no error\n",
        "        else:\n",
        "            # Find item with minimum count\n",
        "            min_item = min(self.counters.items(), key=lambda x: x[1][0])\n",
        "            min_key, (min_count, _) = min_item\n",
        "            # Replace with new item, inherit min_count as error\n",
        "            del self.counters[min_key]\n",
        "            self.counters[item] = [min_count + 1, min_count]\n",
        "\n",
        "    def get_frequent_items(self):\n",
        "        return sorted(\n",
        "            ((item, count, error) for item, (count, error) in self.counters.items()),\n",
        "            key=lambda x: -x[1]\n",
        "        )\n",
        "\n",
        "# Example usage\n",
        "if __name__ == '__main__':\n",
        "    stream = ['a', 'b', 'c', 'a', 'b', 'a', 'd', 'e', 'b', 'b', 'a', 'f', 'g', 'b', 'a']\n",
        "    ss = SpaceSaving(k=3)  # Track top-3 frequent items\n",
        "\n",
        "    for item in stream:\n",
        "        ss.process(item)\n",
        "\n",
        "    print(\"Top-k Frequent Items (Item, Estimated Count, Error):\")\n",
        "    for entry in ss.get_frequent_items():\n",
        "        print(entry)\n"
      ],
      "metadata": {
        "colab": {
          "base_uri": "https://localhost:8080/"
        },
        "id": "mMURXOHovC1u",
        "outputId": "9306070e-9b27-4a19-e41f-0f6cad403628"
      },
      "execution_count": 46,
      "outputs": [
        {
          "output_type": "stream",
          "name": "stdout",
          "text": [
            "Top-k Frequent Items (Item, Estimated Count, Error):\n",
            "('b', 5, 2)\n",
            "('g', 5, 4)\n",
            "('a', 5, 4)\n"
          ]
        }
      ]
    }
  ]
}