{
  "nbformat": 4,
  "nbformat_minor": 0,
  "metadata": {
    "colab": {
      "provenance": []
    },
    "kernelspec": {
      "name": "python3",
      "display_name": "Python 3"
    },
    "language_info": {
      "name": "python"
    }
  },
  "cells": [
    {
      "cell_type": "code",
      "execution_count": 1,
      "metadata": {
        "id": "xcbGmlAl9Hs-"
      },
      "outputs": [],
      "source": [
        "class State:\n",
        "    def __init__(self):\n",
        "        self.transitions = {}  # char -> next State\n",
        "        self.output = None     # suggestion or associated data\n",
        "        self.is_final = False\n",
        "\n",
        "class FST:\n",
        "    def __init__(self):\n",
        "        self.start = State()\n",
        "\n",
        "    def insert(self, word, output=None):\n",
        "        node = self.start\n",
        "        for char in word:\n",
        "            if char not in node.transitions:\n",
        "                node.transitions[char] = State()\n",
        "            node = node.transitions[char]\n",
        "        node.is_final = True\n",
        "        node.output = output if output else word\n",
        "\n",
        "    def autocomplete(self, prefix):\n",
        "        node = self.start\n",
        "        for char in prefix:\n",
        "            if char not in node.transitions:\n",
        "                return []\n",
        "            node = node.transitions[char]\n",
        "        return self._collect_outputs(node)\n",
        "\n",
        "    def _collect_outputs(self, node):\n",
        "        results = []\n",
        "        stack = [(node, \"\")]\n",
        "        while stack:\n",
        "            current, path = stack.pop()\n",
        "            if current.is_final:\n",
        "                results.append(current.output)\n",
        "            for char, next_node in current.transitions.items():\n",
        "                stack.append((next_node, path + char))\n",
        "        return results\n"
      ]
    },
    {
      "cell_type": "code",
      "source": [
        "fst = FST()\n",
        "fst.insert(\"hello\")\n",
        "fst.insert(\"help\")\n",
        "fst.insert(\"helium\")\n",
        "fst.insert(\"hero\")\n",
        "fst.insert(\"man\")\n",
        "fst.insert(\"genre\")\n",
        "fst.insert(\"gentle\")\n",
        "fst.insert(\"gem\")\n",
        "\n",
        "print(fst.autocomplete(\"ge\"))   # Output: ['gem', 'gentle', 'genre']\n",
        "print(fst.autocomplete(\"he\"))   # Output: ['hello', 'help', 'helium', 'hero']\n",
        "print(fst.autocomplete(\"hel\"))   # Output: ['helium', 'help', 'hello']\n",
        "\n"
      ],
      "metadata": {
        "colab": {
          "base_uri": "https://localhost:8080/"
        },
        "id": "k9II_-FC9N4B",
        "outputId": "21f51c01-67fd-4407-c4cc-f0b084e0c2f8"
      },
      "execution_count": 5,
      "outputs": [
        {
          "output_type": "stream",
          "name": "stdout",
          "text": [
            "['gem', 'gentle', 'genre']\n",
            "['hero', 'helium', 'help', 'hello']\n",
            "['helium', 'help', 'hello']\n"
          ]
        }
      ]
    }
  ]
}